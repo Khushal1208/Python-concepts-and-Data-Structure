{
  "nbformat": 4,
  "nbformat_minor": 0,
  "metadata": {
    "colab": {
      "provenance": []
    },
    "kernelspec": {
      "name": "python3",
      "display_name": "Python 3"
    },
    "language_info": {
      "name": "python"
    }
  },
  "cells": [
    {
      "cell_type": "markdown",
      "source": [
        "**Find the Number of days in a month**"
      ],
      "metadata": {
        "id": "Q4cdmXwXDYZS"
      }
    },
    {
      "cell_type": "code",
      "execution_count": null,
      "metadata": {
        "colab": {
          "base_uri": "https://localhost:8080/"
        },
        "id": "F4bbRusRDXDD",
        "outputId": "e53d928d-b135-4549-8f5f-1c8c3ab82ed0"
      },
      "outputs": [
        {
          "output_type": "stream",
          "name": "stdout",
          "text": [
            "Enter the Month: 022\n",
            "invalid input\n"
          ]
        }
      ],
      "source": [
        "month=int(input(\"Enter the Month: \"))\n",
        "if month==2:\n",
        "  year=int(input(\"Year: \"))\n",
        "  if (year%4==0 and year%100!=0) or year %400==0:\n",
        "    print('Days: 29')\n",
        "  else:\n",
        "    print('Days: 28')\n",
        "elif month in (1,3,5,7,8,12):\n",
        "  print('Days: 31')\n",
        "elif month in (4,6,9,11):\n",
        "  print('Days: 30')\n",
        "else:\n",
        "  print('invalid input')"
      ]
    },
    {
      "cell_type": "markdown",
      "source": [
        "\n",
        "\n",
        "***Functions***\n",
        "\n",
        "\n"
      ],
      "metadata": {
        "id": "-_KnmyoDV_Xx"
      }
    },
    {
      "cell_type": "code",
      "source": [
        "def fun1():\n",
        "  return \"hrllo\",\"how are you\"\n",
        "\n",
        "print(type(fun1(12)))"
      ],
      "metadata": {
        "colab": {
          "base_uri": "https://localhost:8080/",
          "height": 180
        },
        "id": "WfJ-UEa-V-56",
        "outputId": "bdedddfc-cbf7-4683-ddfc-38bf06dab80e"
      },
      "execution_count": null,
      "outputs": [
        {
          "output_type": "error",
          "ename": "TypeError",
          "evalue": "fun1() takes 0 positional arguments but 1 was given",
          "traceback": [
            "\u001b[0;31m---------------------------------------------------------------------------\u001b[0m",
            "\u001b[0;31mTypeError\u001b[0m                                 Traceback (most recent call last)",
            "\u001b[0;32m<ipython-input-7-8d9ee05946aa>\u001b[0m in \u001b[0;36m<cell line: 4>\u001b[0;34m()\u001b[0m\n\u001b[1;32m      2\u001b[0m   \u001b[0;32mreturn\u001b[0m \u001b[0;34m\"hrllo\"\u001b[0m\u001b[0;34m,\u001b[0m\u001b[0;34m\"how are you\"\u001b[0m\u001b[0;34m\u001b[0m\u001b[0;34m\u001b[0m\u001b[0m\n\u001b[1;32m      3\u001b[0m \u001b[0;34m\u001b[0m\u001b[0m\n\u001b[0;32m----> 4\u001b[0;31m \u001b[0mprint\u001b[0m\u001b[0;34m(\u001b[0m\u001b[0mtype\u001b[0m\u001b[0;34m(\u001b[0m\u001b[0mfun1\u001b[0m\u001b[0;34m(\u001b[0m\u001b[0;36m12\u001b[0m\u001b[0;34m)\u001b[0m\u001b[0;34m)\u001b[0m\u001b[0;34m)\u001b[0m\u001b[0;34m\u001b[0m\u001b[0;34m\u001b[0m\u001b[0m\n\u001b[0m",
            "\u001b[0;31mTypeError\u001b[0m: fun1() takes 0 positional arguments but 1 was given"
          ]
        }
      ]
    },
    {
      "cell_type": "code",
      "source": [],
      "metadata": {
        "id": "HgJtHJTdbhHt"
      },
      "execution_count": null,
      "outputs": []
    },
    {
      "cell_type": "markdown",
      "source": [
        "**Different types functions based on arguments**\n",
        "\n",
        "1. Positional Arguments\n",
        "2. Default Arguments\n",
        "3. Keyword Arguments\n",
        "4. Variable length Argument\n",
        "5. Keyword variable length Argument"
      ],
      "metadata": {
        "id": "fhOPtYMhZrqT"
      }
    },
    {
      "cell_type": "code",
      "source": [
        "def fun(name,age):\n",
        "  print('name: ',name)\n",
        "  print('Age: ', age)\n",
        "\n",
        "fun(29, 'narasimha')"
      ],
      "metadata": {
        "colab": {
          "base_uri": "https://localhost:8080/"
        },
        "id": "HbKcml8taebl",
        "outputId": "51b22e22-fcef-4282-a18d-d3574ad23963"
      },
      "execution_count": null,
      "outputs": [
        {
          "output_type": "stream",
          "name": "stdout",
          "text": [
            "name:  29\n",
            "Age:  narasimha\n"
          ]
        }
      ]
    },
    {
      "cell_type": "code",
      "source": [
        "# Default Arguments\n",
        "\n",
        "def Employee(name,desig,company=\"HCL\"):\n",
        "  print('Employee Name: ',name)\n",
        "  print('Designation: ', desig)\n",
        "  print('Company Name: ',company)\n",
        "\n",
        "Employee('narasimha','manager','Virtusa')\n",
        "Employee('hari','developer')"
      ],
      "metadata": {
        "colab": {
          "base_uri": "https://localhost:8080/"
        },
        "id": "CWNSsJgObiH9",
        "outputId": "a5ff92eb-83fb-43e4-bc6f-14b8b76c568f"
      },
      "execution_count": null,
      "outputs": [
        {
          "output_type": "stream",
          "name": "stdout",
          "text": [
            "Employee Name:  narasimha\n",
            "Designation:  manager\n",
            "Company Name:  Virtusa\n",
            "Employee Name:  hari\n",
            "Designation:  developer\n",
            "Company Name:  HCL\n"
          ]
        }
      ]
    },
    {
      "cell_type": "code",
      "source": [
        "#keyword Argument\n",
        "\n",
        "def Employee(name,desig,company):\n",
        "  print('Employee Name: ',name)\n",
        "  print('Designation: ', desig)\n",
        "  print('Company Name: ',company)\n",
        "\n",
        "Employee(desig='manager',company='Virtusa',name='Narasimha')\n",
        "Employee('hari','developer','HCL')"
      ],
      "metadata": {
        "colab": {
          "base_uri": "https://localhost:8080/"
        },
        "id": "pBGIyOEsdNlb",
        "outputId": "173fb43e-4307-4cf7-ca62-fa1477429750"
      },
      "execution_count": null,
      "outputs": [
        {
          "output_type": "stream",
          "name": "stdout",
          "text": [
            "Employee Name:  Narasimha\n",
            "Designation:  manager\n",
            "Company Name:  Virtusa\n",
            "Employee Name:  hari\n",
            "Designation:  developer\n",
            "Company Name:  HCL\n"
          ]
        }
      ]
    },
    {
      "cell_type": "code",
      "source": [
        "#Variable length Argumnet\n",
        "\n",
        "def student(name, rollno, *marks):\n",
        "  print('Name: ', name)\n",
        "  print('rollno: ',rollno)\n",
        "  s=0\n",
        "  for i in marks:\n",
        "    s+=1\n",
        "    print('Subject '+str(s)+\": \"+str(i))\n",
        "  print('marks: ',marks)\n",
        "\n",
        "student('Narsimha',1,10,20,20,30,40)\n"
      ],
      "metadata": {
        "colab": {
          "base_uri": "https://localhost:8080/"
        },
        "id": "kymkX5BId38r",
        "outputId": "8067cac3-8ec6-4477-b348-54c7459f424f"
      },
      "execution_count": null,
      "outputs": [
        {
          "output_type": "stream",
          "name": "stdout",
          "text": [
            "Name:  Narsimha\n",
            "rollno:  1\n",
            "Subject 1: 10\n",
            "Subject 2: 20\n",
            "Subject 3: 20\n",
            "Subject 4: 30\n",
            "Subject 5: 40\n",
            "marks:  (10, 20, 20, 30, 40)\n"
          ]
        }
      ]
    },
    {
      "cell_type": "code",
      "source": [
        "#keyword Variable length Arguments\n",
        "\n",
        "def student(name, rollno, **marks):\n",
        "  print('Name: ', name)\n",
        "  print('rollno: ',rollno)\n",
        "  s=0\n",
        "  # for i in marks.items():\n",
        "  #   print(i) # it print tuple(i)\n",
        "# Name:  Narsimha\n",
        "# rollno:  1\n",
        "# ('subj1', 10)\n",
        "# ('subj2', 20)\n",
        "# ('subj3', 20)\n",
        "# ('subj4', 30)\n",
        "# ('subj5', 40)\n",
        "\n",
        "\n",
        "    # and if I consider two variables i & j\n",
        "  for i ,j in marks.items():\n",
        "      print(i,\":\" ,j)\n",
        "# Name:  Narsimha\n",
        "# rollno:  1\n",
        "# subj1 : 10\n",
        "# subj2 : 20\n",
        "# subj3 : 20\n",
        "# subj4 : 30\n",
        "# subj5 : 40\n",
        "\n",
        "\n",
        "\n",
        "student('Narsimha',1,subj1=10,subj2=20,subj3=20,subj4=30,subj5=40)\n",
        "\n"
      ],
      "metadata": {
        "colab": {
          "base_uri": "https://localhost:8080/"
        },
        "id": "oOV8DcQffdaw",
        "outputId": "72dce0ec-e891-4e0c-d6fe-327a179ce6b9"
      },
      "execution_count": null,
      "outputs": [
        {
          "output_type": "stream",
          "name": "stdout",
          "text": [
            "Name:  Narsimha\n",
            "rollno:  1\n",
            "('subj1', 10)\n",
            "('subj2', 20)\n",
            "('subj3', 20)\n",
            "('subj4', 30)\n",
            "('subj5', 40)\n"
          ]
        }
      ]
    }
  ]
}